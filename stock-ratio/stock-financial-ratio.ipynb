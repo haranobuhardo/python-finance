{
 "cells": [
  {
   "cell_type": "code",
   "execution_count": 28,
   "id": "39092703",
   "metadata": {
    "ExecuteTime": {
     "end_time": "2021-07-01T16:03:43.987498Z",
     "start_time": "2021-07-01T16:03:43.981833Z"
    }
   },
   "outputs": [],
   "source": [
    "import requests\n",
    "import pandas as pd\n",
    "import json"
   ]
  },
  {
   "cell_type": "code",
   "execution_count": 34,
   "id": "a6cc16fe",
   "metadata": {
    "ExecuteTime": {
     "end_time": "2021-07-01T16:04:53.579342Z",
     "start_time": "2021-07-01T16:04:53.570766Z"
    }
   },
   "outputs": [],
   "source": [
    "file_json = open(\"config.json\") # getting API key from external file\n",
    "data = json.loads(file_json.read())\n",
    "api_key = data['API']\n",
    "\n",
    "stock = 'AAPL'\n",
    "\n",
    "url = f'https://financialmodelingprep.com/api/v4/stock_peers?symbol={stock}&apikey={api_key}'"
   ]
  },
  {
   "cell_type": "markdown",
   "id": "9277ee4d",
   "metadata": {},
   "source": [
    "# Get list of peers"
   ]
  },
  {
   "cell_type": "code",
   "execution_count": 35,
   "id": "191d7047",
   "metadata": {
    "ExecuteTime": {
     "end_time": "2021-07-01T16:04:57.724715Z",
     "start_time": "2021-07-01T16:04:56.472958Z"
    }
   },
   "outputs": [
    {
     "data": {
      "text/plain": [
       "['AAPL',\n",
       " 'MSFT',\n",
       " 'NVDA',\n",
       " 'ASML',\n",
       " 'ADBE',\n",
       " 'INTC',\n",
       " 'CSCO',\n",
       " 'AVGO',\n",
       " 'TXN',\n",
       " 'QCOM',\n",
       " 'AMAT']"
      ]
     },
     "execution_count": 35,
     "metadata": {},
     "output_type": "execute_result"
    }
   ],
   "source": [
    "peers = requests.get(url).json()\n",
    "#print(peers)\n",
    "peers = peers[0]['peersList']\n",
    "peers[:0] = [stock] # same as peers.insert(0, stock)\n",
    "peers"
   ]
  },
  {
   "cell_type": "markdown",
   "id": "da10ce01",
   "metadata": {},
   "source": [
    "# Retrieve Financial Ratios for each of the peers"
   ]
  },
  {
   "cell_type": "code",
   "execution_count": 21,
   "id": "308cc0a6",
   "metadata": {
    "ExecuteTime": {
     "end_time": "2021-07-01T15:45:35.313229Z",
     "start_time": "2021-07-01T15:45:23.134928Z"
    }
   },
   "outputs": [],
   "source": [
    "profitability_ratios = {}\n",
    "\n",
    "# adding ratios into the dict\n",
    "for stock in peers:\n",
    "  profitability_ratios[stock] = {}\n",
    "  fr = f'https://financialmodelingprep.com/api/v3/ratios-ttm/{stock}?apikey={api_key}'\n",
    "  financial_ratios_ttm = requests.get(fr).json()\n",
    "  profitability_ratios[stock]['Return on Assets'] = financial_ratios_ttm[0]['returnOnAssetsTTM']\n",
    "  profitability_ratios[stock]['Return on Equity'] = financial_ratios_ttm[0]['returnOnEquityTTM']\n",
    "  profitability_ratios[stock]['Gross Profit Margin'] = financial_ratios_ttm[0]['grossProfitMarginTTM']\n",
    "  profitability_ratios[stock]['Opearting Profit Margin'] = financial_ratios_ttm[0]['operatingProfitMarginTTM']\n",
    "  profitability_ratios[stock]['Net Profit Margin'] = financial_ratios_ttm[0]['netProfitMarginTTM']"
   ]
  },
  {
   "cell_type": "markdown",
   "id": "dd6a1fe1",
   "metadata": {},
   "source": [
    "# Converts to DataFrame"
   ]
  },
  {
   "cell_type": "code",
   "execution_count": 22,
   "id": "fd2656bd",
   "metadata": {
    "ExecuteTime": {
     "end_time": "2021-07-01T15:45:39.421437Z",
     "start_time": "2021-07-01T15:45:39.382482Z"
    }
   },
   "outputs": [
    {
     "data": {
      "text/html": [
       "<div>\n",
       "<style scoped>\n",
       "    .dataframe tbody tr th:only-of-type {\n",
       "        vertical-align: middle;\n",
       "    }\n",
       "\n",
       "    .dataframe tbody tr th {\n",
       "        vertical-align: top;\n",
       "    }\n",
       "\n",
       "    .dataframe thead th {\n",
       "        text-align: right;\n",
       "    }\n",
       "</style>\n",
       "<table border=\"1\" class=\"dataframe\">\n",
       "  <thead>\n",
       "    <tr style=\"text-align: right;\">\n",
       "      <th></th>\n",
       "      <th>AAPL</th>\n",
       "      <th>MSFT</th>\n",
       "      <th>NVDA</th>\n",
       "      <th>ASML</th>\n",
       "      <th>ADBE</th>\n",
       "      <th>INTC</th>\n",
       "      <th>CSCO</th>\n",
       "      <th>AVGO</th>\n",
       "      <th>TXN</th>\n",
       "      <th>QCOM</th>\n",
       "      <th>AMAT</th>\n",
       "    </tr>\n",
       "  </thead>\n",
       "  <tbody>\n",
       "    <tr>\n",
       "      <th>Return on Assets</th>\n",
       "      <td>0.226336</td>\n",
       "      <td>0.181349</td>\n",
       "      <td>0.172977</td>\n",
       "      <td>0.152862</td>\n",
       "      <td>0.222774</td>\n",
       "      <td>0.123481</td>\n",
       "      <td>0.108823</td>\n",
       "      <td>0.064655</td>\n",
       "      <td>0.314374</td>\n",
       "      <td>0.215831</td>\n",
       "      <td>0.184015</td>\n",
       "    </tr>\n",
       "    <tr>\n",
       "      <th>Return on Equity</th>\n",
       "      <td>1.118016</td>\n",
       "      <td>0.442424</td>\n",
       "      <td>0.328245</td>\n",
       "      <td>0.309564</td>\n",
       "      <td>0.450652</td>\n",
       "      <td>0.234385</td>\n",
       "      <td>0.263007</td>\n",
       "      <td>0.204689</td>\n",
       "      <td>0.699168</td>\n",
       "      <td>1.326663</td>\n",
       "      <td>0.406484</td>\n",
       "    </tr>\n",
       "    <tr>\n",
       "      <th>Gross Profit Margin</th>\n",
       "      <td>0.398813</td>\n",
       "      <td>0.683814</td>\n",
       "      <td>0.624221</td>\n",
       "      <td>0.502534</td>\n",
       "      <td>0.874507</td>\n",
       "      <td>0.546248</td>\n",
       "      <td>0.639438</td>\n",
       "      <td>0.519430</td>\n",
       "      <td>0.647040</td>\n",
       "      <td>0.599884</td>\n",
       "      <td>0.458314</td>\n",
       "    </tr>\n",
       "    <tr>\n",
       "      <th>Opearting Profit Margin</th>\n",
       "      <td>0.273206</td>\n",
       "      <td>0.401503</td>\n",
       "      <td>0.286248</td>\n",
       "      <td>0.313451</td>\n",
       "      <td>0.347464</td>\n",
       "      <td>0.290431</td>\n",
       "      <td>0.261659</td>\n",
       "      <td>0.250695</td>\n",
       "      <td>0.441476</td>\n",
       "      <td>0.305043</td>\n",
       "      <td>0.280678</td>\n",
       "    </tr>\n",
       "    <tr>\n",
       "      <th>Net Profit Margin</th>\n",
       "      <td>0.234510</td>\n",
       "      <td>0.350162</td>\n",
       "      <td>0.276641</td>\n",
       "      <td>0.277072</td>\n",
       "      <td>0.406812</td>\n",
       "      <td>0.239332</td>\n",
       "      <td>0.209188</td>\n",
       "      <td>0.191093</td>\n",
       "      <td>0.400363</td>\n",
       "      <td>0.272774</td>\n",
       "      <td>0.223534</td>\n",
       "    </tr>\n",
       "  </tbody>\n",
       "</table>\n",
       "</div>"
      ],
      "text/plain": [
       "                             AAPL      MSFT      NVDA      ASML      ADBE  \\\n",
       "Return on Assets         0.226336  0.181349  0.172977  0.152862  0.222774   \n",
       "Return on Equity         1.118016  0.442424  0.328245  0.309564  0.450652   \n",
       "Gross Profit Margin      0.398813  0.683814  0.624221  0.502534  0.874507   \n",
       "Opearting Profit Margin  0.273206  0.401503  0.286248  0.313451  0.347464   \n",
       "Net Profit Margin        0.234510  0.350162  0.276641  0.277072  0.406812   \n",
       "\n",
       "                             INTC      CSCO      AVGO       TXN      QCOM  \\\n",
       "Return on Assets         0.123481  0.108823  0.064655  0.314374  0.215831   \n",
       "Return on Equity         0.234385  0.263007  0.204689  0.699168  1.326663   \n",
       "Gross Profit Margin      0.546248  0.639438  0.519430  0.647040  0.599884   \n",
       "Opearting Profit Margin  0.290431  0.261659  0.250695  0.441476  0.305043   \n",
       "Net Profit Margin        0.239332  0.209188  0.191093  0.400363  0.272774   \n",
       "\n",
       "                             AMAT  \n",
       "Return on Assets         0.184015  \n",
       "Return on Equity         0.406484  \n",
       "Gross Profit Margin      0.458314  \n",
       "Opearting Profit Margin  0.280678  \n",
       "Net Profit Margin        0.223534  "
      ]
     },
     "execution_count": 22,
     "metadata": {},
     "output_type": "execute_result"
    }
   ],
   "source": [
    "profitability_ratios = pd.DataFrame(profitability_ratios)\n",
    "profitability_ratios"
   ]
  }
 ],
 "metadata": {
  "kernelspec": {
   "display_name": "Python 3",
   "language": "python",
   "name": "python3"
  },
  "language_info": {
   "codemirror_mode": {
    "name": "ipython",
    "version": 3
   },
   "file_extension": ".py",
   "mimetype": "text/x-python",
   "name": "python",
   "nbconvert_exporter": "python",
   "pygments_lexer": "ipython3",
   "version": "3.8.10"
  },
  "toc": {
   "base_numbering": 1,
   "nav_menu": {},
   "number_sections": true,
   "sideBar": true,
   "skip_h1_title": false,
   "title_cell": "Table of Contents",
   "title_sidebar": "Contents",
   "toc_cell": false,
   "toc_position": {},
   "toc_section_display": true,
   "toc_window_display": false
  },
  "varInspector": {
   "cols": {
    "lenName": 16,
    "lenType": 16,
    "lenVar": 40
   },
   "kernels_config": {
    "python": {
     "delete_cmd_postfix": "",
     "delete_cmd_prefix": "del ",
     "library": "var_list.py",
     "varRefreshCmd": "print(var_dic_list())"
    },
    "r": {
     "delete_cmd_postfix": ") ",
     "delete_cmd_prefix": "rm(",
     "library": "var_list.r",
     "varRefreshCmd": "cat(var_dic_list()) "
    }
   },
   "types_to_exclude": [
    "module",
    "function",
    "builtin_function_or_method",
    "instance",
    "_Feature"
   ],
   "window_display": false
  }
 },
 "nbformat": 4,
 "nbformat_minor": 5
}
